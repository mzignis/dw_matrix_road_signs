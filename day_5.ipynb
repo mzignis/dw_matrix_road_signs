{
  "nbformat": 4,
  "nbformat_minor": 0,
  "metadata": {
    "colab": {
      "name": "day_5.ipynb",
      "provenance": [],
      "mount_file_id": "1g2iQOh1kLmq1OidcqFC93t6UN_OxMNZX",
      "authorship_tag": "ABX9TyOUJS3WAWb8ED1ApObRoC83"
    },
    "kernelspec": {
      "name": "python3",
      "display_name": "Python 3"
    },
    "accelerator": "GPU"
  },
  "cells": [
    {
      "cell_type": "code",
      "metadata": {
        "id": "7QfSDxXugfsd",
        "colab_type": "code",
        "colab": {
          "base_uri": "https://localhost:8080/",
          "height": 71
        },
        "outputId": "375adb53-4ada-41cb-8f3a-ce58d9b07193"
      },
      "source": [
        "import datetime\n",
        "import os\n",
        "\n",
        "import matplotlib.pyplot as plt\n",
        "import numpy as np\n",
        "import pandas as pd\n",
        "import seaborn as sns\n",
        "\n",
        "from skimage import color, exposure\n",
        "\n",
        "from sklearn.metrics import accuracy_score\n",
        "\n",
        "import tensorflow as tf\n",
        "from tensorflow.keras.models import Sequential\n",
        "from tensorflow.keras.layers import Conv2D, MaxPool2D, Dense, Flatten, Dropout\n",
        "from tensorflow.keras.utils import to_categorical\n",
        "\n",
        "from hyperopt import hp, STATUS_OK, tpe, Trials, fmin\n",
        "\n",
        "sns.set()\n",
        "%load_ext tensorboard"
      ],
      "execution_count": 1,
      "outputs": [
        {
          "output_type": "stream",
          "text": [
            "/usr/local/lib/python3.6/dist-packages/statsmodels/tools/_testing.py:19: FutureWarning: pandas.util.testing is deprecated. Use the functions in the public API at pandas.testing instead.\n",
            "  import pandas.util.testing as tm\n"
          ],
          "name": "stderr"
        }
      ]
    },
    {
      "cell_type": "code",
      "metadata": {
        "id": "QAje6F0pg3x4",
        "colab_type": "code",
        "colab": {
          "base_uri": "https://localhost:8080/",
          "height": 34
        },
        "outputId": "2f830568-36c5-422a-c527-8087cd330007"
      },
      "source": [
        "HOME = '/content/drive/My Drive/Colab Notebooks/matrix/dw_matrix_road_signs'\n",
        "%cd $HOME"
      ],
      "execution_count": 2,
      "outputs": [
        {
          "output_type": "stream",
          "text": [
            "/content/drive/My Drive/Colab Notebooks/matrix/dw_matrix_road_signs\n"
          ],
          "name": "stdout"
        }
      ]
    },
    {
      "cell_type": "code",
      "metadata": {
        "id": "GhrWvgjBhK-F",
        "colab_type": "code",
        "colab": {}
      },
      "source": [
        "train_db = pd.read_pickle('data/train.p')\n",
        "test_db = pd.read_pickle('data/test.p')\n",
        "\n",
        "X_train, y_train = train_db['features'], train_db['labels']\n",
        "X_test, y_test = test_db['features'], test_db['labels']"
      ],
      "execution_count": 0,
      "outputs": []
    },
    {
      "cell_type": "code",
      "metadata": {
        "id": "z7kTFFtjhWLi",
        "colab_type": "code",
        "colab": {
          "base_uri": "https://localhost:8080/",
          "height": 204
        },
        "outputId": "38740363-dedb-4bb7-b565-41cd8153c2f4"
      },
      "source": [
        "sign_names = pd.read_csv('data/dw_signnames.csv')\n",
        "sign_names.head()"
      ],
      "execution_count": 4,
      "outputs": [
        {
          "output_type": "execute_result",
          "data": {
            "text/html": [
              "<div>\n",
              "<style scoped>\n",
              "    .dataframe tbody tr th:only-of-type {\n",
              "        vertical-align: middle;\n",
              "    }\n",
              "\n",
              "    .dataframe tbody tr th {\n",
              "        vertical-align: top;\n",
              "    }\n",
              "\n",
              "    .dataframe thead th {\n",
              "        text-align: right;\n",
              "    }\n",
              "</style>\n",
              "<table border=\"1\" class=\"dataframe\">\n",
              "  <thead>\n",
              "    <tr style=\"text-align: right;\">\n",
              "      <th></th>\n",
              "      <th>a</th>\n",
              "      <th>b</th>\n",
              "    </tr>\n",
              "  </thead>\n",
              "  <tbody>\n",
              "    <tr>\n",
              "      <th>0</th>\n",
              "      <td>0</td>\n",
              "      <td>Speed limit (20km/h)</td>\n",
              "    </tr>\n",
              "    <tr>\n",
              "      <th>1</th>\n",
              "      <td>1</td>\n",
              "      <td>Speed limit (30km/h)</td>\n",
              "    </tr>\n",
              "    <tr>\n",
              "      <th>2</th>\n",
              "      <td>2</td>\n",
              "      <td>Speed limit (50km/h)</td>\n",
              "    </tr>\n",
              "    <tr>\n",
              "      <th>3</th>\n",
              "      <td>3</td>\n",
              "      <td>Speed limit (60km/h)</td>\n",
              "    </tr>\n",
              "    <tr>\n",
              "      <th>4</th>\n",
              "      <td>4</td>\n",
              "      <td>Speed limit (70km/h)</td>\n",
              "    </tr>\n",
              "  </tbody>\n",
              "</table>\n",
              "</div>"
            ],
            "text/plain": [
              "   a                     b\n",
              "0  0  Speed limit (20km/h)\n",
              "1  1  Speed limit (30km/h)\n",
              "2  2  Speed limit (50km/h)\n",
              "3  3  Speed limit (60km/h)\n",
              "4  4  Speed limit (70km/h)"
            ]
          },
          "metadata": {
            "tags": []
          },
          "execution_count": 4
        }
      ]
    },
    {
      "cell_type": "code",
      "metadata": {
        "id": "FqZUJMKmhb6K",
        "colab_type": "code",
        "colab": {}
      },
      "source": [
        "y_train = to_categorical(y_train)\n",
        "y_test = to_categorical(y_test)"
      ],
      "execution_count": 0,
      "outputs": []
    },
    {
      "cell_type": "code",
      "metadata": {
        "id": "qtxb1eU9hiEG",
        "colab_type": "code",
        "colab": {}
      },
      "source": [
        "input_shape = X_train.shape[1:]\n",
        "cat_num = y_train.shape[1]"
      ],
      "execution_count": 0,
      "outputs": []
    },
    {
      "cell_type": "code",
      "metadata": {
        "id": "3M_FoVrLhkBx",
        "colab_type": "code",
        "colab": {
          "base_uri": "https://localhost:8080/",
          "height": 255
        },
        "outputId": "f7c422dc-9016-478b-9aaf-f74e64152621"
      },
      "source": [
        "def get_cnn_v1(input_shape, cat_num, verbose=False):\n",
        "    model = Sequential([Conv2D(filters=64, kernel_size=(3, 3), activation='relu', input_shape=input_shape),\n",
        "                        Flatten(),\n",
        "                        Dense(cat_num, activation='softmax')])\n",
        "    if verbose:\n",
        "        model.summary()\n",
        "\n",
        "    return model\n",
        "\n",
        "\n",
        "cnn_v1 = get_cnn_v1(input_shape, cat_num, True)"
      ],
      "execution_count": 7,
      "outputs": [
        {
          "output_type": "stream",
          "text": [
            "Model: \"sequential\"\n",
            "_________________________________________________________________\n",
            "Layer (type)                 Output Shape              Param #   \n",
            "=================================================================\n",
            "conv2d (Conv2D)              (None, 30, 30, 64)        1792      \n",
            "_________________________________________________________________\n",
            "flatten (Flatten)            (None, 57600)             0         \n",
            "_________________________________________________________________\n",
            "dense (Dense)                (None, 43)                2476843   \n",
            "=================================================================\n",
            "Total params: 2,478,635\n",
            "Trainable params: 2,478,635\n",
            "Non-trainable params: 0\n",
            "_________________________________________________________________\n"
          ],
          "name": "stdout"
        }
      ]
    },
    {
      "cell_type": "code",
      "metadata": {
        "id": "SyQi26rDhnVo",
        "colab_type": "code",
        "colab": {
          "base_uri": "https://localhost:8080/",
          "height": 207
        },
        "outputId": "073a7e00-b739-4129-8fd2-52b7e5b12f7a"
      },
      "source": [
        "def train_model(model, X_train, y_train, params_fit=dict()):\n",
        "\n",
        "    logdir = os.path.join('logs', datetime.datetime.now().strftime('%Y%m%d_%H%M%S'))\n",
        "    tensorboard_callback = tf.keras.callbacks.TensorBoard(logdir, histogram_freq=1)\n",
        "\n",
        "    model.compile(loss='categorical_crossentropy', optimizer='Adam', metrics=['accuracy'])\n",
        "    model.fit(X_train, \n",
        "              y_train,\n",
        "              batch_size=params_fit.get('batch_size', 128),\n",
        "              epochs=params_fit.get('epochs', 5),\n",
        "              verbose=params_fit.get('verbose', 1),\n",
        "              validation_data=params_fit.get('validation_data', (X_train, y_train)),\n",
        "              callbacks=[tensorboard_callback])\n",
        "\n",
        "    return model\n",
        "\n",
        "model_trained = train_model(cnn_v1, X_train, y_train)"
      ],
      "execution_count": 8,
      "outputs": [
        {
          "output_type": "stream",
          "text": [
            "Epoch 1/5\n",
            "272/272 [==============================] - 7s 25ms/step - loss: 21.1410 - accuracy: 0.7725 - val_loss: 0.2157 - val_accuracy: 0.9500\n",
            "Epoch 2/5\n",
            "272/272 [==============================] - 6s 23ms/step - loss: 0.1960 - accuracy: 0.9538 - val_loss: 0.1232 - val_accuracy: 0.9707\n",
            "Epoch 3/5\n",
            "272/272 [==============================] - 6s 23ms/step - loss: 0.1243 - accuracy: 0.9693 - val_loss: 0.0857 - val_accuracy: 0.9778\n",
            "Epoch 4/5\n",
            "272/272 [==============================] - 6s 23ms/step - loss: 0.0941 - accuracy: 0.9764 - val_loss: 0.0711 - val_accuracy: 0.9825\n",
            "Epoch 5/5\n",
            "272/272 [==============================] - 6s 23ms/step - loss: 0.0943 - accuracy: 0.9792 - val_loss: 0.1108 - val_accuracy: 0.9747\n"
          ],
          "name": "stdout"
        }
      ]
    },
    {
      "cell_type": "code",
      "metadata": {
        "id": "pcboINtYh0kW",
        "colab_type": "code",
        "colab": {}
      },
      "source": [
        "def predict(model, X_test, y_test, scoring=accuracy_score):\n",
        "    y_test_norm = np.argmax(y_test, axis=1)\n",
        "    y_pred_prob = model.predict(X_test)\n",
        "    y_pred = np.argmax(y_pred_prob, axis=1)\n",
        "\n",
        "    return scoring(y_test_norm, y_pred)"
      ],
      "execution_count": 0,
      "outputs": []
    },
    {
      "cell_type": "code",
      "metadata": {
        "id": "7MVIpHX9h1w-",
        "colab_type": "code",
        "colab": {}
      },
      "source": [
        "def get_cnn(input_shape, cat_num):\n",
        "    model = Sequential([Conv2D(filters=32, kernel_size=(3, 3), activation='relu', input_shape=input_shape),\n",
        "                        Conv2D(filters=32, kernel_size=(3, 3), activation='relu', padding='same'),\n",
        "                        MaxPool2D(),\n",
        "                        Dropout(0.3),\n",
        "\n",
        "                        Conv2D(filters=64, kernel_size=(3, 3), activation='relu', padding='same'),\n",
        "                        Conv2D(filters=64, kernel_size=(3, 3), activation='relu'),\n",
        "                        MaxPool2D(),\n",
        "                        Dropout(0.3),\n",
        "\n",
        "                        Flatten(),\n",
        "\n",
        "                        Dense(1024, activation='relu'),\n",
        "                        Dropout(0.3),\n",
        "\n",
        "                        Dense(1024, activation='relu'),\n",
        "                        Dropout(0.3),\n",
        "\n",
        "                        Dense(cat_num, activation='softmax')])\n",
        "    return model"
      ],
      "execution_count": 0,
      "outputs": []
    },
    {
      "cell_type": "code",
      "metadata": {
        "id": "KlRH39M6h_nw",
        "colab_type": "code",
        "colab": {
          "base_uri": "https://localhost:8080/",
          "height": 224
        },
        "outputId": "78f44c94-6396-4f82-f332-5e729a5d1125"
      },
      "source": [
        "def train_and_predict(model, X_train, y_train, X_test, y_test):\n",
        "    model_trained = train_model(model, X_train, y_train)\n",
        "    return predict(model_trained, X_test, y_test)\n",
        "\n",
        "# train_and_predict(get_cnn(input_shape, cat_num), X_train, y_train, X_test, y_test)"
      ],
      "execution_count": 11,
      "outputs": [
        {
          "output_type": "stream",
          "text": [
            "Epoch 1/5\n",
            "272/272 [==============================] - 12s 45ms/step - loss: 2.3776 - accuracy: 0.4112 - val_loss: 0.4694 - val_accuracy: 0.8598\n",
            "Epoch 2/5\n",
            "272/272 [==============================] - 12s 43ms/step - loss: 0.5820 - accuracy: 0.8224 - val_loss: 0.1191 - val_accuracy: 0.9720\n",
            "Epoch 3/5\n",
            "272/272 [==============================] - 12s 43ms/step - loss: 0.3022 - accuracy: 0.9095 - val_loss: 0.0622 - val_accuracy: 0.9845\n",
            "Epoch 4/5\n",
            "272/272 [==============================] - 12s 43ms/step - loss: 0.1948 - accuracy: 0.9410 - val_loss: 0.0264 - val_accuracy: 0.9929\n",
            "Epoch 5/5\n",
            "272/272 [==============================] - 12s 43ms/step - loss: 0.1507 - accuracy: 0.9559 - val_loss: 0.0218 - val_accuracy: 0.9943\n"
          ],
          "name": "stdout"
        },
        {
          "output_type": "execute_result",
          "data": {
            "text/plain": [
              "0.962358276643991"
            ]
          },
          "metadata": {
            "tags": []
          },
          "execution_count": 11
        }
      ]
    },
    {
      "cell_type": "code",
      "metadata": {
        "id": "xEGp1bKYkuBR",
        "colab_type": "code",
        "colab": {}
      },
      "source": [
        "def get_model(input_shape, cat_num, params):\n",
        "    model = Sequential([Conv2D(filters=32, kernel_size=(3, 3), activation='relu', input_shape=input_shape),\n",
        "                        Conv2D(filters=32, kernel_size=(3, 3), activation='relu', padding='same'),\n",
        "                        MaxPool2D(),\n",
        "                        Dropout(params['dropout_cnn_0']),\n",
        "\n",
        "                        Conv2D(filters=64, kernel_size=(3, 3), activation='relu', padding='same'),\n",
        "                        Conv2D(filters=64, kernel_size=(3, 3), activation='relu'),\n",
        "                        MaxPool2D(),\n",
        "                        Dropout(params['dropout_cnn_1']),\n",
        "\n",
        "                        Conv2D(filters=128, kernel_size=(3, 3), activation='relu', padding='same'),\n",
        "                        Conv2D(filters=128, kernel_size=(3, 3), activation='relu'),\n",
        "                        MaxPool2D(),\n",
        "                        Dropout(params['dropout_cnn_2']),\n",
        "\n",
        "                        Flatten(),\n",
        "\n",
        "                        Dense(1024, activation='relu'),\n",
        "                        Dropout(params['dropout_dense_0']),\n",
        "\n",
        "                        Dense(1024, activation='relu'),\n",
        "                        Dropout(params['dropout_dense_1']),\n",
        "\n",
        "                        Dense(cat_num, activation='softmax')])\n",
        "    return model"
      ],
      "execution_count": 0,
      "outputs": []
    },
    {
      "cell_type": "code",
      "metadata": {
        "id": "GekbaOgjiFdP",
        "colab_type": "code",
        "colab": {}
      },
      "source": [
        "def func_obj(params):\n",
        "    model = get_model(input_shape, cat_num, params)\n",
        "    model.compile(loss='categorical_crossentropy', optimizer='Adam', metrics=['accuracy'])\n",
        "\n",
        "    model.fit(X_train, \n",
        "              y_train,\n",
        "              batch_size=int(params.get('batch_size', 128)),\n",
        "              epochs=params.get('epochs', 5),\n",
        "              verbose=params.get('verbose', 0)\n",
        "    )\n",
        "\n",
        "    score = model.evaluate(X_test, y_test, verbose=0)\n",
        "    accuracy = score[1]\n",
        "    print(f'params={params}')\n",
        "    print(f'accuracy={accuracy}')\n",
        "\n",
        "    return {'loss': -accuracy, 'status': STATUS_OK, 'model': model}"
      ],
      "execution_count": 0,
      "outputs": []
    },
    {
      "cell_type": "code",
      "metadata": {
        "id": "d6Vd3-mqjaCz",
        "colab_type": "code",
        "colab": {}
      },
      "source": [
        "space = {\n",
        "    'batch_size': hp.quniform('batch_size', 100, 200, 10),\n",
        "    'dropout_cnn_0': hp.uniform('dropout_cnn_0', 0.3, 0.5),\n",
        "    'dropout_cnn_1': hp.uniform('dropout_cnn_1', 0.3, 0.5),\n",
        "    'dropout_cnn_2': hp.uniform('dropout_cnn_2', 0.3, 0.5),\n",
        "    'dropout_dense_0': hp.uniform('dropout_dense_0', 0.3, 0.7),\n",
        "    'dropout_dense_1': hp.uniform('dropout_dense_1', 0.3, 0.7),\n",
        "}"
      ],
      "execution_count": 0,
      "outputs": []
    },
    {
      "cell_type": "code",
      "metadata": {
        "id": "qRfS07XJj7qJ",
        "colab_type": "code",
        "colab": {
          "base_uri": "https://localhost:8080/",
          "height": 1000
        },
        "outputId": "3f82e418-c09f-4927-ad3f-34d1899c93ac"
      },
      "source": [
        "best = fmin(\n",
        "    func_obj,\n",
        "    space,\n",
        "    tpe.suggest,\n",
        "    30, \n",
        "    Trials()\n",
        ")"
      ],
      "execution_count": 25,
      "outputs": [
        {
          "output_type": "stream",
          "text": [
            "params={'batch_size': 100.0, 'dropout_cnn_0': 0.4879239947277033, 'dropout_cnn_1': 0.41844465850576257, 'dropout_cnn_2': 0.30965372112329087, 'dropout_dense_0': 0.4021819483430512, 'dropout_dense_1': 0.5484462572265736}\n",
            "accuracy=0.9546485543251038\n",
            "params={'batch_size': 110.0, 'dropout_cnn_0': 0.4454706127504861, 'dropout_cnn_1': 0.4624384690395012, 'dropout_cnn_2': 0.33913598936283884, 'dropout_dense_0': 0.5740434204430944, 'dropout_dense_1': 0.6296515937419154}\n",
            "accuracy=0.8337868452072144\n",
            "params={'batch_size': 160.0, 'dropout_cnn_0': 0.36067887838440155, 'dropout_cnn_1': 0.46008918518034936, 'dropout_cnn_2': 0.43839249380954826, 'dropout_dense_0': 0.3246246348241844, 'dropout_dense_1': 0.3160098003597073}\n",
            "accuracy=0.9435374140739441\n",
            "params={'batch_size': 120.0, 'dropout_cnn_0': 0.32139805632785357, 'dropout_cnn_1': 0.3682460950330647, 'dropout_cnn_2': 0.35017506728862746, 'dropout_dense_0': 0.636572271397232, 'dropout_dense_1': 0.571017519489049}\n",
            "accuracy=0.9678004384040833\n",
            "params={'batch_size': 120.0, 'dropout_cnn_0': 0.4913879097246001, 'dropout_cnn_1': 0.47033985564382663, 'dropout_cnn_2': 0.31865265519409725, 'dropout_dense_0': 0.4649288055725062, 'dropout_dense_1': 0.5296904186684789}\n",
            "accuracy=0.9235827922821045\n",
            "params={'batch_size': 150.0, 'dropout_cnn_0': 0.4164041967473282, 'dropout_cnn_1': 0.37056626479342125, 'dropout_cnn_2': 0.3436300186166929, 'dropout_dense_0': 0.5087510602359042, 'dropout_dense_1': 0.42453105625736365}\n",
            "accuracy=0.9616780281066895\n",
            "params={'batch_size': 180.0, 'dropout_cnn_0': 0.4854568816341579, 'dropout_cnn_1': 0.48877389527091347, 'dropout_cnn_2': 0.32601913003927036, 'dropout_dense_0': 0.5560442462373014, 'dropout_dense_1': 0.3649109619366709}\n",
            "accuracy=0.8356009125709534\n",
            "params={'batch_size': 150.0, 'dropout_cnn_0': 0.4700263840446974, 'dropout_cnn_1': 0.322993910912036, 'dropout_cnn_2': 0.3856630233645689, 'dropout_dense_0': 0.6065512537170488, 'dropout_dense_1': 0.5801993674122023}\n",
            "accuracy=0.8383219838142395\n",
            "params={'batch_size': 190.0, 'dropout_cnn_0': 0.3297266714814264, 'dropout_cnn_1': 0.4093366714067281, 'dropout_cnn_2': 0.37022163453985824, 'dropout_dense_0': 0.4170767345499065, 'dropout_dense_1': 0.6575939918759518}\n",
            "accuracy=0.942630410194397\n",
            "params={'batch_size': 190.0, 'dropout_cnn_0': 0.41931974165794494, 'dropout_cnn_1': 0.3658335614786773, 'dropout_cnn_2': 0.38194136852267363, 'dropout_dense_0': 0.35608031433606646, 'dropout_dense_1': 0.520155315556423}\n",
            "accuracy=0.9589568972587585\n",
            "params={'batch_size': 200.0, 'dropout_cnn_0': 0.47952859607728693, 'dropout_cnn_1': 0.45881924368073185, 'dropout_cnn_2': 0.4852393119246963, 'dropout_dense_0': 0.629240760228121, 'dropout_dense_1': 0.6294628440800268}\n",
            "accuracy=0.6000000238418579\n",
            "params={'batch_size': 140.0, 'dropout_cnn_0': 0.3150257556317754, 'dropout_cnn_1': 0.31747190509765943, 'dropout_cnn_2': 0.35274788955799385, 'dropout_dense_0': 0.4694085515989886, 'dropout_dense_1': 0.37821243166844476}\n",
            "accuracy=0.9501133561134338\n",
            "params={'batch_size': 190.0, 'dropout_cnn_0': 0.42318543432060074, 'dropout_cnn_1': 0.4679243745883398, 'dropout_cnn_2': 0.33994933689087475, 'dropout_dense_0': 0.5234438903237745, 'dropout_dense_1': 0.6297812010676287}\n",
            "accuracy=0.8433106541633606\n",
            "params={'batch_size': 180.0, 'dropout_cnn_0': 0.4111970954079379, 'dropout_cnn_1': 0.3810825698020177, 'dropout_cnn_2': 0.34368611965100887, 'dropout_dense_0': 0.4377954919072118, 'dropout_dense_1': 0.408624015159865}\n",
            "accuracy=0.8283446431159973\n",
            "params={'batch_size': 140.0, 'dropout_cnn_0': 0.3439677060908322, 'dropout_cnn_1': 0.35799455118265633, 'dropout_cnn_2': 0.33208044451947605, 'dropout_dense_0': 0.5981815864983848, 'dropout_dense_1': 0.6511843812879597}\n",
            "accuracy=0.9365079402923584\n",
            "params={'batch_size': 150.0, 'dropout_cnn_0': 0.46748242209200613, 'dropout_cnn_1': 0.3676523437653032, 'dropout_cnn_2': 0.4312792131485984, 'dropout_dense_0': 0.32625690833721793, 'dropout_dense_1': 0.39700280191442144}\n",
            "accuracy=0.9539682269096375\n",
            "params={'batch_size': 180.0, 'dropout_cnn_0': 0.42118581162583, 'dropout_cnn_1': 0.4195010230907402, 'dropout_cnn_2': 0.4484039188546435, 'dropout_dense_0': 0.6910918343546651, 'dropout_dense_1': 0.4624531349632961}\n",
            "accuracy=0.8224489688873291\n",
            "params={'batch_size': 160.0, 'dropout_cnn_0': 0.39549131897703976, 'dropout_cnn_1': 0.3057757730736938, 'dropout_cnn_2': 0.3440014812703657, 'dropout_dense_0': 0.38230910863624784, 'dropout_dense_1': 0.5782683789010685}\n",
            "accuracy=0.9417233467102051\n",
            "params={'batch_size': 160.0, 'dropout_cnn_0': 0.40973697044396806, 'dropout_cnn_1': 0.44794678886427797, 'dropout_cnn_2': 0.43617063275156226, 'dropout_dense_0': 0.4707042293286713, 'dropout_dense_1': 0.5573245013217827}\n",
            "accuracy=0.9058957099914551\n",
            "params={'batch_size': 150.0, 'dropout_cnn_0': 0.484035628014369, 'dropout_cnn_1': 0.3354419819793466, 'dropout_cnn_2': 0.3679687322020443, 'dropout_dense_0': 0.527323731619307, 'dropout_dense_1': 0.5803313861614661}\n",
            "accuracy=0.934920608997345\n",
            "params={'batch_size': 130.0, 'dropout_cnn_0': 0.3788726918102912, 'dropout_cnn_1': 0.39487133539431546, 'dropout_cnn_2': 0.4093930677647206, 'dropout_dense_0': 0.6899431290444987, 'dropout_dense_1': 0.4715426582507825}\n",
            "accuracy=0.91700679063797\n",
            "params={'batch_size': 120.0, 'dropout_cnn_0': 0.3751135026304699, 'dropout_cnn_1': 0.3450941747375239, 'dropout_cnn_2': 0.4027596876155159, 'dropout_dense_0': 0.653364076129978, 'dropout_dense_1': 0.456372854022631}\n",
            "accuracy=0.9428571462631226\n",
            "params={'batch_size': 100.0, 'dropout_cnn_0': 0.4430692000951883, 'dropout_cnn_1': 0.3920331534487922, 'dropout_cnn_2': 0.30809641707342283, 'dropout_dense_0': 0.6457738013910003, 'dropout_dense_1': 0.6931556825310153}\n",
            "accuracy=0.9020408391952515\n",
            "params={'batch_size': 130.0, 'dropout_cnn_0': 0.3098449776598965, 'dropout_cnn_1': 0.4330141894396331, 'dropout_cnn_2': 0.36462177532083384, 'dropout_dense_0': 0.5080213947756672, 'dropout_dense_1': 0.436456594672405}\n",
            "accuracy=0.961904764175415\n",
            "params={'batch_size': 120.0, 'dropout_cnn_0': 0.3100682995875006, 'dropout_cnn_1': 0.4403059761171209, 'dropout_cnn_2': 0.3647118024249737, 'dropout_dense_0': 0.5499327379699052, 'dropout_dense_1': 0.33047800715612013}\n",
            "accuracy=0.9215419292449951\n",
            "params={'batch_size': 110.0, 'dropout_cnn_0': 0.33554440076591774, 'dropout_cnn_1': 0.43474055482913365, 'dropout_cnn_2': 0.41893302140483907, 'dropout_dense_0': 0.6605185879511281, 'dropout_dense_1': 0.4832971499239135}\n",
            "accuracy=0.9360544085502625\n",
            "params={'batch_size': 130.0, 'dropout_cnn_0': 0.30379539369144754, 'dropout_cnn_1': 0.4064463518523729, 'dropout_cnn_2': 0.4656824710935996, 'dropout_dense_0': 0.5881258356630151, 'dropout_dense_1': 0.42907421627055664}\n",
            "accuracy=0.9514739513397217\n",
            "params={'batch_size': 110.0, 'dropout_cnn_0': 0.3224440342224547, 'dropout_cnn_1': 0.48668517280337237, 'dropout_cnn_2': 0.3000177265182328, 'dropout_dense_0': 0.4908740626213097, 'dropout_dense_1': 0.5070687093481369}\n",
            "accuracy=0.9489796161651611\n",
            "params={'batch_size': 130.0, 'dropout_cnn_0': 0.3486243130709472, 'dropout_cnn_1': 0.42415652169302975, 'dropout_cnn_2': 0.38653332278305086, 'dropout_dense_0': 0.42873294452965865, 'dropout_dense_1': 0.3484720970071098}\n",
            "accuracy=0.9428571462631226\n",
            "params={'batch_size': 100.0, 'dropout_cnn_0': 0.3033407328546241, 'dropout_cnn_1': 0.3872273792780576, 'dropout_cnn_2': 0.31589339084649687, 'dropout_dense_0': 0.6212959824180401, 'dropout_dense_1': 0.5453367051678037}\n",
            "accuracy=0.9696145057678223\n",
            "100%|██████████| 30/30 [22:54<00:00, 45.82s/it, best loss: -0.9696145057678223]\n"
          ],
          "name": "stdout"
        }
      ]
    },
    {
      "cell_type": "code",
      "metadata": {
        "id": "Qwak7UD7kTAT",
        "colab_type": "code",
        "colab": {}
      },
      "source": [
        "   "
      ],
      "execution_count": 0,
      "outputs": []
    }
  ]
}