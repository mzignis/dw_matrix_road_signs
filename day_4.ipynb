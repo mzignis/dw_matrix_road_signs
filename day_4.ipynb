{
  "nbformat": 4,
  "nbformat_minor": 0,
  "metadata": {
    "colab": {
      "name": "day_4.ipynb",
      "provenance": [],
      "mount_file_id": "1aLI9RdhCHmrd-5mJUnLwc27vWCLiF2dX",
      "authorship_tag": "ABX9TyOzXnbrhSKLPbZSTzl854WE",
      "include_colab_link": true
    },
    "kernelspec": {
      "name": "python3",
      "display_name": "Python 3"
    },
    "accelerator": "GPU"
  },
  "cells": [
    {
      "cell_type": "markdown",
      "metadata": {
        "id": "view-in-github",
        "colab_type": "text"
      },
      "source": [
        "<a href=\"https://colab.research.google.com/github/mzignis/dw_matrix_road_signs/blob/master/day_4.ipynb\" target=\"_parent\"><img src=\"https://colab.research.google.com/assets/colab-badge.svg\" alt=\"Open In Colab\"/></a>"
      ]
    },
    {
      "cell_type": "code",
      "metadata": {
        "id": "yi7gCjQuNYPq",
        "colab_type": "code",
        "outputId": "228c109b-5ca2-4169-c12e-c1101b0f715b",
        "colab": {
          "base_uri": "https://localhost:8080/",
          "height": 51
        }
      },
      "source": [
        "import datetime\n",
        "import os\n",
        "\n",
        "import matplotlib.pyplot as plt\n",
        "import numpy as np\n",
        "import pandas as pd\n",
        "import seaborn as sns\n",
        "\n",
        "from skimage import color, exposure\n",
        "\n",
        "from sklearn.metrics import accuracy_score\n",
        "\n",
        "import tensorflow as tf\n",
        "from tensorflow.keras.models import Sequential\n",
        "from tensorflow.keras.layers import Conv2D, MaxPool2D, Dense, Flatten, Dropout\n",
        "from tensorflow.keras.utils import to_categorical\n",
        "\n",
        "sns.set()\n",
        "%load_ext tensorboard"
      ],
      "execution_count": 19,
      "outputs": [
        {
          "output_type": "stream",
          "text": [
            "The tensorboard extension is already loaded. To reload it, use:\n",
            "  %reload_ext tensorboard\n"
          ],
          "name": "stdout"
        }
      ]
    },
    {
      "cell_type": "code",
      "metadata": {
        "id": "BgYWSY5VCQp7",
        "colab_type": "code",
        "outputId": "fe731d94-af07-4dad-819c-66a56b5e2f9f",
        "colab": {
          "base_uri": "https://localhost:8080/",
          "height": 34
        }
      },
      "source": [
        "HOME = '/content/drive/My Drive/Colab Notebooks/matrix/dw_matrix_road_signs'\n",
        "%cd $HOME"
      ],
      "execution_count": 2,
      "outputs": [
        {
          "output_type": "stream",
          "text": [
            "/content/drive/My Drive/Colab Notebooks/matrix/dw_matrix_road_signs\n"
          ],
          "name": "stdout"
        }
      ]
    },
    {
      "cell_type": "code",
      "metadata": {
        "id": "j-fonHdzDi_6",
        "colab_type": "code",
        "colab": {}
      },
      "source": [
        "train_db = pd.read_pickle('data/train.p')\n",
        "test_db = pd.read_pickle('data/test.p')\n",
        "\n",
        "X_train, y_train = train_db['features'], train_db['labels']\n",
        "X_test, y_test = test_db['features'], test_db['labels']"
      ],
      "execution_count": 0,
      "outputs": []
    },
    {
      "cell_type": "code",
      "metadata": {
        "id": "v1bfXZgNEF2F",
        "colab_type": "code",
        "outputId": "871b42f0-3ded-43f0-8dd3-4a839ff02199",
        "colab": {
          "base_uri": "https://localhost:8080/",
          "height": 204
        }
      },
      "source": [
        "sign_names = pd.read_csv('data/dw_signnames.csv')\n",
        "sign_names.head()"
      ],
      "execution_count": 4,
      "outputs": [
        {
          "output_type": "execute_result",
          "data": {
            "text/html": [
              "<div>\n",
              "<style scoped>\n",
              "    .dataframe tbody tr th:only-of-type {\n",
              "        vertical-align: middle;\n",
              "    }\n",
              "\n",
              "    .dataframe tbody tr th {\n",
              "        vertical-align: top;\n",
              "    }\n",
              "\n",
              "    .dataframe thead th {\n",
              "        text-align: right;\n",
              "    }\n",
              "</style>\n",
              "<table border=\"1\" class=\"dataframe\">\n",
              "  <thead>\n",
              "    <tr style=\"text-align: right;\">\n",
              "      <th></th>\n",
              "      <th>a</th>\n",
              "      <th>b</th>\n",
              "    </tr>\n",
              "  </thead>\n",
              "  <tbody>\n",
              "    <tr>\n",
              "      <th>0</th>\n",
              "      <td>0</td>\n",
              "      <td>Speed limit (20km/h)</td>\n",
              "    </tr>\n",
              "    <tr>\n",
              "      <th>1</th>\n",
              "      <td>1</td>\n",
              "      <td>Speed limit (30km/h)</td>\n",
              "    </tr>\n",
              "    <tr>\n",
              "      <th>2</th>\n",
              "      <td>2</td>\n",
              "      <td>Speed limit (50km/h)</td>\n",
              "    </tr>\n",
              "    <tr>\n",
              "      <th>3</th>\n",
              "      <td>3</td>\n",
              "      <td>Speed limit (60km/h)</td>\n",
              "    </tr>\n",
              "    <tr>\n",
              "      <th>4</th>\n",
              "      <td>4</td>\n",
              "      <td>Speed limit (70km/h)</td>\n",
              "    </tr>\n",
              "  </tbody>\n",
              "</table>\n",
              "</div>"
            ],
            "text/plain": [
              "   a                     b\n",
              "0  0  Speed limit (20km/h)\n",
              "1  1  Speed limit (30km/h)\n",
              "2  2  Speed limit (50km/h)\n",
              "3  3  Speed limit (60km/h)\n",
              "4  4  Speed limit (70km/h)"
            ]
          },
          "metadata": {
            "tags": []
          },
          "execution_count": 4
        }
      ]
    },
    {
      "cell_type": "code",
      "metadata": {
        "id": "iKAw0A0MEmpL",
        "colab_type": "code",
        "colab": {}
      },
      "source": [
        "y_train = to_categorical(y_train)\n",
        "y_test = to_categorical(y_test)"
      ],
      "execution_count": 0,
      "outputs": []
    },
    {
      "cell_type": "code",
      "metadata": {
        "id": "oOUiSJ-vE_Jv",
        "colab_type": "code",
        "colab": {}
      },
      "source": [
        "input_shape = X_train.shape[1:]\n",
        "cat_num = y_train.shape[1]"
      ],
      "execution_count": 0,
      "outputs": []
    },
    {
      "cell_type": "code",
      "metadata": {
        "id": "yFe9M-mZF99v",
        "colab_type": "code",
        "outputId": "d2b0a4f5-579b-4b60-bb85-1e857c41af21",
        "colab": {
          "base_uri": "https://localhost:8080/",
          "height": 255
        }
      },
      "source": [
        "model = Sequential([\n",
        "                    Conv2D(filters=64, kernel_size=(3, 3), activation='relu', input_shape=input_shape),\n",
        "                    Flatten(),\n",
        "                    Dense(cat_num, activation='softmax')\n",
        "])\n",
        "\n",
        "model.summary()"
      ],
      "execution_count": 7,
      "outputs": [
        {
          "output_type": "stream",
          "text": [
            "Model: \"sequential\"\n",
            "_________________________________________________________________\n",
            "Layer (type)                 Output Shape              Param #   \n",
            "=================================================================\n",
            "conv2d (Conv2D)              (None, 30, 30, 64)        1792      \n",
            "_________________________________________________________________\n",
            "flatten (Flatten)            (None, 57600)             0         \n",
            "_________________________________________________________________\n",
            "dense (Dense)                (None, 43)                2476843   \n",
            "=================================================================\n",
            "Total params: 2,478,635\n",
            "Trainable params: 2,478,635\n",
            "Non-trainable params: 0\n",
            "_________________________________________________________________\n"
          ],
          "name": "stdout"
        }
      ]
    },
    {
      "cell_type": "code",
      "metadata": {
        "id": "B8q3n2pKF_ej",
        "colab_type": "code",
        "outputId": "4cbc125a-1d41-4e91-e6c0-1bfa86633d41",
        "colab": {
          "base_uri": "https://localhost:8080/",
          "height": 51
        }
      },
      "source": [
        "model.compile(loss='categorical_crossentropy', optimizer='Adam', metrics=['accuracy'])\n",
        "model.fit(X_train, y_train)"
      ],
      "execution_count": 8,
      "outputs": [
        {
          "output_type": "stream",
          "text": [
            "1088/1088 [==============================] - 7s 7ms/step - loss: 8.3129 - accuracy: 0.7755\n"
          ],
          "name": "stdout"
        },
        {
          "output_type": "execute_result",
          "data": {
            "text/plain": [
              "<tensorflow.python.keras.callbacks.History at 0x7f3a204058d0>"
            ]
          },
          "metadata": {
            "tags": []
          },
          "execution_count": 8
        }
      ]
    },
    {
      "cell_type": "code",
      "metadata": {
        "id": "hpjIL-KeIn7m",
        "colab_type": "code",
        "outputId": "1e98770d-5693-4285-9706-a94646694201",
        "colab": {
          "base_uri": "https://localhost:8080/",
          "height": 255
        }
      },
      "source": [
        "def get_cnn_v1(input_shape, cat_num, verbose=False):\n",
        "    model = Sequential([Conv2D(filters=64, kernel_size=(3, 3), activation='relu', input_shape=input_shape),\n",
        "                        Flatten(),\n",
        "                        Dense(cat_num, activation='softmax')])\n",
        "    if verbose:\n",
        "        model.summary()\n",
        "\n",
        "    return model\n",
        "\n",
        "\n",
        "cnn_v1 = get_cnn_v1(input_shape, cat_num, True)"
      ],
      "execution_count": 9,
      "outputs": [
        {
          "output_type": "stream",
          "text": [
            "Model: \"sequential_1\"\n",
            "_________________________________________________________________\n",
            "Layer (type)                 Output Shape              Param #   \n",
            "=================================================================\n",
            "conv2d_1 (Conv2D)            (None, 30, 30, 64)        1792      \n",
            "_________________________________________________________________\n",
            "flatten_1 (Flatten)          (None, 57600)             0         \n",
            "_________________________________________________________________\n",
            "dense_1 (Dense)              (None, 43)                2476843   \n",
            "=================================================================\n",
            "Total params: 2,478,635\n",
            "Trainable params: 2,478,635\n",
            "Non-trainable params: 0\n",
            "_________________________________________________________________\n"
          ],
          "name": "stdout"
        }
      ]
    },
    {
      "cell_type": "code",
      "metadata": {
        "id": "Db-n98tLKINP",
        "colab_type": "code",
        "outputId": "493569fb-ef7d-47f8-a0ee-5e9bd250970b",
        "colab": {
          "base_uri": "https://localhost:8080/",
          "height": 187
        }
      },
      "source": [
        "def train_model(model, X_train, y_train, params_fit=dict()):\n",
        "\n",
        "    logdir = os.path.join('logs', datetime.datetime.now().strftime('%Y%m%d_%H%M%S'))\n",
        "    tensorboard_callback = tf.keras.callbacks.TensorBoard(logdir, histogram_freq=1)\n",
        "\n",
        "    model.compile(loss='categorical_crossentropy', optimizer='Adam', metrics=['accuracy'])\n",
        "    model.fit(X_train, \n",
        "              y_train,\n",
        "              batch_size=params_fit.get('batch_size', 128),\n",
        "              epochs=params_fit.get('epochs', 5),\n",
        "              verbose=params_fit.get('verbose', 1),\n",
        "              validation_data=params_fit.get('validation_data', (X_train, y_train)),\n",
        "              callbacks=[tensorboard_callback])\n",
        "\n",
        "    return model\n",
        "\n",
        "model = train_model(cnn_v1, X_train, y_train)"
      ],
      "execution_count": 10,
      "outputs": [
        {
          "output_type": "stream",
          "text": [
            "Epoch 1/5\n",
            "272/272 [==============================] - 7s 24ms/step - loss: 34.8533 - accuracy: 0.7418 - val_loss: 0.2700 - val_accuracy: 0.9361\n",
            "Epoch 2/5\n",
            "272/272 [==============================] - 6s 23ms/step - loss: 0.2294 - accuracy: 0.9458 - val_loss: 0.1448 - val_accuracy: 0.9657\n",
            "Epoch 3/5\n",
            "272/272 [==============================] - 6s 23ms/step - loss: 0.1448 - accuracy: 0.9660 - val_loss: 0.1307 - val_accuracy: 0.9673\n",
            "Epoch 4/5\n",
            "272/272 [==============================] - 6s 24ms/step - loss: 0.1073 - accuracy: 0.9754 - val_loss: 0.0886 - val_accuracy: 0.9785\n",
            "Epoch 5/5\n",
            "272/272 [==============================] - 6s 23ms/step - loss: 0.0895 - accuracy: 0.9797 - val_loss: 0.0746 - val_accuracy: 0.9826\n"
          ],
          "name": "stdout"
        }
      ]
    },
    {
      "cell_type": "code",
      "metadata": {
        "id": "bIj6H0RiNwf6",
        "colab_type": "code",
        "outputId": "a24b2605-b666-409e-c63b-52589292fc3f",
        "colab": {
          "base_uri": "https://localhost:8080/",
          "height": 493
        }
      },
      "source": [
        "def get_cnn_v2(input_shape, cat_num, verbose=False):\n",
        "    model = Sequential([Conv2D(filters=32, kernel_size=(3, 3), activation='relu', input_shape=input_shape),\n",
        "                        MaxPool2D(),\n",
        "                        Dropout(0.5),\n",
        "\n",
        "                        Conv2D(filters=64, kernel_size=(3, 3), activation='relu'),\n",
        "                        MaxPool2D(),\n",
        "                        Dropout(0.3),\n",
        "\n",
        "                        Flatten(),\n",
        "\n",
        "                        Dense(1024, activation='relu'),\n",
        "                        Dropout(0.5),\n",
        "\n",
        "                        Dense(cat_num, activation='softmax')])\n",
        "    if verbose:\n",
        "        model.summary()\n",
        "\n",
        "    return model\n",
        "\n",
        "\n",
        "cnn_v2 = get_cnn_v2(input_shape, cat_num, True)"
      ],
      "execution_count": 11,
      "outputs": [
        {
          "output_type": "stream",
          "text": [
            "Model: \"sequential_2\"\n",
            "_________________________________________________________________\n",
            "Layer (type)                 Output Shape              Param #   \n",
            "=================================================================\n",
            "conv2d_2 (Conv2D)            (None, 30, 30, 32)        896       \n",
            "_________________________________________________________________\n",
            "max_pooling2d (MaxPooling2D) (None, 15, 15, 32)        0         \n",
            "_________________________________________________________________\n",
            "dropout (Dropout)            (None, 15, 15, 32)        0         \n",
            "_________________________________________________________________\n",
            "conv2d_3 (Conv2D)            (None, 13, 13, 64)        18496     \n",
            "_________________________________________________________________\n",
            "max_pooling2d_1 (MaxPooling2 (None, 6, 6, 64)          0         \n",
            "_________________________________________________________________\n",
            "dropout_1 (Dropout)          (None, 6, 6, 64)          0         \n",
            "_________________________________________________________________\n",
            "flatten_2 (Flatten)          (None, 2304)              0         \n",
            "_________________________________________________________________\n",
            "dense_2 (Dense)              (None, 1024)              2360320   \n",
            "_________________________________________________________________\n",
            "dropout_2 (Dropout)          (None, 1024)              0         \n",
            "_________________________________________________________________\n",
            "dense_3 (Dense)              (None, 43)                44075     \n",
            "=================================================================\n",
            "Total params: 2,423,787\n",
            "Trainable params: 2,423,787\n",
            "Non-trainable params: 0\n",
            "_________________________________________________________________\n"
          ],
          "name": "stdout"
        }
      ]
    },
    {
      "cell_type": "code",
      "metadata": {
        "id": "0Nv55eBcP0WO",
        "colab_type": "code",
        "outputId": "095741a2-b42f-4157-f73d-96118abcbab2",
        "colab": {
          "base_uri": "https://localhost:8080/",
          "height": 867
        }
      },
      "source": [
        "model = train_model(cnn_v1, X_train, y_train, params_fit={'epochs': 25})"
      ],
      "execution_count": 12,
      "outputs": [
        {
          "output_type": "stream",
          "text": [
            "Epoch 1/25\n",
            "272/272 [==============================] - 6s 24ms/step - loss: 0.1218 - accuracy: 0.9740 - val_loss: 0.0861 - val_accuracy: 0.9799\n",
            "Epoch 2/25\n",
            "272/272 [==============================] - 6s 23ms/step - loss: 0.0933 - accuracy: 0.9803 - val_loss: 0.0631 - val_accuracy: 0.9848\n",
            "Epoch 3/25\n",
            "272/272 [==============================] - 6s 23ms/step - loss: 0.0904 - accuracy: 0.9808 - val_loss: 0.0464 - val_accuracy: 0.9899\n",
            "Epoch 4/25\n",
            "272/272 [==============================] - 6s 23ms/step - loss: 0.0751 - accuracy: 0.9846 - val_loss: 0.0343 - val_accuracy: 0.9919\n",
            "Epoch 5/25\n",
            "272/272 [==============================] - 6s 23ms/step - loss: 0.0575 - accuracy: 0.9878 - val_loss: 0.0604 - val_accuracy: 0.9843\n",
            "Epoch 6/25\n",
            "272/272 [==============================] - 6s 23ms/step - loss: 0.0645 - accuracy: 0.9870 - val_loss: 0.0179 - val_accuracy: 0.9954\n",
            "Epoch 7/25\n",
            "272/272 [==============================] - 6s 23ms/step - loss: 0.0619 - accuracy: 0.9866 - val_loss: 0.1143 - val_accuracy: 0.9738\n",
            "Epoch 8/25\n",
            "272/272 [==============================] - 6s 23ms/step - loss: 0.1418 - accuracy: 0.9774 - val_loss: 0.0435 - val_accuracy: 0.9895\n",
            "Epoch 9/25\n",
            "272/272 [==============================] - 6s 24ms/step - loss: 0.0439 - accuracy: 0.9905 - val_loss: 0.0299 - val_accuracy: 0.9940\n",
            "Epoch 10/25\n",
            "272/272 [==============================] - 6s 23ms/step - loss: 0.0344 - accuracy: 0.9937 - val_loss: 0.0412 - val_accuracy: 0.9906\n",
            "Epoch 11/25\n",
            "272/272 [==============================] - 6s 23ms/step - loss: 0.0437 - accuracy: 0.9908 - val_loss: 0.1040 - val_accuracy: 0.9816\n",
            "Epoch 12/25\n",
            "272/272 [==============================] - 6s 23ms/step - loss: 0.0465 - accuracy: 0.9897 - val_loss: 0.0301 - val_accuracy: 0.9928\n",
            "Epoch 13/25\n",
            "272/272 [==============================] - 6s 23ms/step - loss: 0.0985 - accuracy: 0.9867 - val_loss: 0.0867 - val_accuracy: 0.9889\n",
            "Epoch 14/25\n",
            "272/272 [==============================] - 6s 23ms/step - loss: 0.1013 - accuracy: 0.9867 - val_loss: 0.0786 - val_accuracy: 0.9868\n",
            "Epoch 15/25\n",
            "272/272 [==============================] - 6s 23ms/step - loss: 0.0826 - accuracy: 0.9873 - val_loss: 0.0498 - val_accuracy: 0.9911\n",
            "Epoch 16/25\n",
            "272/272 [==============================] - 6s 23ms/step - loss: 0.0721 - accuracy: 0.9877 - val_loss: 0.0383 - val_accuracy: 0.9917\n",
            "Epoch 17/25\n",
            "272/272 [==============================] - 6s 23ms/step - loss: 0.0566 - accuracy: 0.9907 - val_loss: 0.0335 - val_accuracy: 0.9932\n",
            "Epoch 18/25\n",
            "272/272 [==============================] - 6s 23ms/step - loss: 0.0314 - accuracy: 0.9939 - val_loss: 0.0639 - val_accuracy: 0.9889\n",
            "Epoch 19/25\n",
            "272/272 [==============================] - 6s 23ms/step - loss: 0.0312 - accuracy: 0.9944 - val_loss: 0.0214 - val_accuracy: 0.9958\n",
            "Epoch 20/25\n",
            "272/272 [==============================] - 6s 23ms/step - loss: 0.0342 - accuracy: 0.9941 - val_loss: 0.0344 - val_accuracy: 0.9930\n",
            "Epoch 21/25\n",
            "272/272 [==============================] - 6s 24ms/step - loss: 0.0330 - accuracy: 0.9934 - val_loss: 0.0676 - val_accuracy: 0.9868\n",
            "Epoch 22/25\n",
            "272/272 [==============================] - 6s 23ms/step - loss: 0.0709 - accuracy: 0.9899 - val_loss: 0.0460 - val_accuracy: 0.9899\n",
            "Epoch 23/25\n",
            "272/272 [==============================] - 6s 23ms/step - loss: 0.0328 - accuracy: 0.9944 - val_loss: 0.0060 - val_accuracy: 0.9987\n",
            "Epoch 24/25\n",
            "272/272 [==============================] - 6s 23ms/step - loss: 0.0345 - accuracy: 0.9948 - val_loss: 0.0653 - val_accuracy: 0.9919\n",
            "Epoch 25/25\n",
            "272/272 [==============================] - 6s 24ms/step - loss: 0.0317 - accuracy: 0.9947 - val_loss: 0.0102 - val_accuracy: 0.9982\n"
          ],
          "name": "stdout"
        }
      ]
    },
    {
      "cell_type": "markdown",
      "metadata": {
        "id": "UI0HH6oHF2C-",
        "colab_type": "text"
      },
      "source": [
        "### DAY 4"
      ]
    },
    {
      "cell_type": "code",
      "metadata": {
        "id": "oEIa5-r9F5oy",
        "colab_type": "code",
        "colab": {
          "base_uri": "https://localhost:8080/",
          "height": 748
        },
        "outputId": "0ba43fc4-ef26-4dd0-ede8-65c980d870d6"
      },
      "source": [
        "labels_dict =  sign_names.to_dict()['b']\n",
        "labels_dict"
      ],
      "execution_count": 17,
      "outputs": [
        {
          "output_type": "execute_result",
          "data": {
            "text/plain": [
              "{0: 'Speed limit (20km/h)',\n",
              " 1: 'Speed limit (30km/h)',\n",
              " 2: 'Speed limit (50km/h)',\n",
              " 3: 'Speed limit (60km/h)',\n",
              " 4: 'Speed limit (70km/h)',\n",
              " 5: 'Speed limit (80km/h)',\n",
              " 6: 'End of speed limit (80km/h)',\n",
              " 7: 'Speed limit (100km/h)',\n",
              " 8: 'Speed limit (120km/h)',\n",
              " 9: 'No passing',\n",
              " 10: 'No passing for vehicles over 3.5 metric tons',\n",
              " 11: 'Right-of-way at the next intersection',\n",
              " 12: 'Priority road',\n",
              " 13: 'Yield',\n",
              " 14: 'Stop',\n",
              " 15: 'No vehicles',\n",
              " 16: 'Vehicles over 3.5 metric tons prohibited',\n",
              " 17: 'No entry',\n",
              " 18: 'General caution',\n",
              " 19: 'Dangerous curve to the left',\n",
              " 20: 'Dangerous curve to the right',\n",
              " 21: 'Double curve',\n",
              " 22: 'Bumpy road',\n",
              " 23: 'Slippery road',\n",
              " 24: 'Road narrows on the right',\n",
              " 25: 'Road work',\n",
              " 26: 'Traffic signals',\n",
              " 27: 'Pedestrians',\n",
              " 28: 'Children crossing',\n",
              " 29: 'Bicycles crossing',\n",
              " 30: 'Beware of ice/snow',\n",
              " 31: 'Wild animals crossing',\n",
              " 32: 'End of all speed and passing limits',\n",
              " 33: 'Turn right ahead',\n",
              " 34: 'Turn left ahead',\n",
              " 35: 'Ahead only',\n",
              " 36: 'Go straight or right',\n",
              " 37: 'Go straight or left',\n",
              " 38: 'Keep right',\n",
              " 39: 'Keep left',\n",
              " 40: 'Roundabout mandatory',\n",
              " 41: 'End of no passing',\n",
              " 42: 'End of no passing by vehicles over 3.5 metric tons'}"
            ]
          },
          "metadata": {
            "tags": []
          },
          "execution_count": 17
        }
      ]
    },
    {
      "cell_type": "code",
      "metadata": {
        "id": "A3c3WQUwSD1_",
        "colab_type": "code",
        "colab": {
          "base_uri": "https://localhost:8080/",
          "height": 285
        },
        "outputId": "9e6c4313-84cd-49e6-e1c8-c3d46a0edfef"
      },
      "source": [
        "plt.imshow(X_test[400])"
      ],
      "execution_count": 13,
      "outputs": [
        {
          "output_type": "execute_result",
          "data": {
            "text/plain": [
              "<matplotlib.image.AxesImage at 0x7f3a082a97f0>"
            ]
          },
          "metadata": {
            "tags": []
          },
          "execution_count": 13
        },
        {
          "output_type": "display_data",
          "data": {
            "image/png": "[encoded data removed]",
            "text/plain": [
              "<Figure size 432x288 with 1 Axes>"
            ]
          },
          "metadata": {
            "tags": []
          }
        }
      ]
    },
    {
      "cell_type": "code",
      "metadata": {
        "id": "vK8EOZNzFH1S",
        "colab_type": "code",
        "colab": {
          "base_uri": "https://localhost:8080/",
          "height": 34
        },
        "outputId": "e309c424-b33c-4097-e9eb-a3470fc207ab"
      },
      "source": [
        "y_pred_prob = model.predict(X_test)\n",
        "labels_dict[np.argmax(y_pred_prob[400])]"
      ],
      "execution_count": 18,
      "outputs": [
        {
          "output_type": "execute_result",
          "data": {
            "text/plain": [
              "'Speed limit (30km/h)'"
            ]
          },
          "metadata": {
            "tags": []
          },
          "execution_count": 18
        }
      ]
    },
    {
      "cell_type": "code",
      "metadata": {
        "id": "t_njuFLOFpcu",
        "colab_type": "code",
        "colab": {
          "base_uri": "https://localhost:8080/",
          "height": 34
        },
        "outputId": "2668f463-78fc-48d2-b0c0-7da463699766"
      },
      "source": [
        "def predict(model, X_test, y_test, scoring=accuracy_score):\n",
        "    y_test_norm = np.argmax(y_test, axis=1)\n",
        "    y_pred_prob = model.predict(X_test)\n",
        "    y_pred = np.argmax(y_pred_prob, axis=1)\n",
        "\n",
        "    return scoring(y_test_norm, y_pred)\n",
        "\n",
        "\n",
        "predict(model, X_test, y_test)"
      ],
      "execution_count": 22,
      "outputs": [
        {
          "output_type": "execute_result",
          "data": {
            "text/plain": [
              "0.8691609977324263"
            ]
          },
          "metadata": {
            "tags": []
          },
          "execution_count": 22
        }
      ]
    },
    {
      "cell_type": "code",
      "metadata": {
        "id": "p1Zp6c9PH3uz",
        "colab_type": "code",
        "colab": {
          "base_uri": "https://localhost:8080/",
          "height": 204
        },
        "outputId": "34f63f9c-40ff-4618-b726-dceeb42957ac"
      },
      "source": [
        "def train_and_predict(model):\n",
        "    model_trained = train_model(model, X_train, y_train)\n",
        "    return predict(model_trained, X_test, y_test)\n",
        "\n",
        "\n",
        "def get_cnn(input_shape, cat_num):\n",
        "    model = Sequential([Conv2D(filters=32, kernel_size=(3, 3), activation='relu', input_shape=input_shape),\n",
        "                        Conv2D(filters=32, kernel_size=(3, 3), activation='relu', padding='same'),\n",
        "                        MaxPool2D(),\n",
        "                        Dropout(0.3),\n",
        "\n",
        "                        Conv2D(filters=64, kernel_size=(3, 3), activation='relu', padding='same'),\n",
        "                        Conv2D(filters=64, kernel_size=(3, 3), activation='relu'),\n",
        "                        MaxPool2D(),\n",
        "                        Dropout(0.3),\n",
        "\n",
        "                        Flatten(),\n",
        "\n",
        "                        Dense(1024, activation='relu'),\n",
        "                        Dropout(0.3),\n",
        "\n",
        "                        Dense(1024, activation='relu'),\n",
        "                        Dropout(0.3),\n",
        "\n",
        "                        Dense(cat_num, activation='softmax')])\n",
        "    return model\n",
        "\n",
        "\n",
        "train_and_predict(get_cnn(input_shape, cat_num))"
      ],
      "execution_count": 29,
      "outputs": [
        {
          "output_type": "stream",
          "text": [
            "Epoch 1/5\n",
            "272/272 [==============================] - 12s 43ms/step - loss: 2.2764 - accuracy: 0.4439 - val_loss: 0.4477 - val_accuracy: 0.8744\n",
            "Epoch 2/5\n",
            "272/272 [==============================] - 12s 42ms/step - loss: 0.5083 - accuracy: 0.8453 - val_loss: 0.1034 - val_accuracy: 0.9728\n",
            "Epoch 3/5\n",
            "272/272 [==============================] - 12s 43ms/step - loss: 0.2638 - accuracy: 0.9239 - val_loss: 0.0467 - val_accuracy: 0.9884\n",
            "Epoch 4/5\n",
            "272/272 [==============================] - 12s 43ms/step - loss: 0.1745 - accuracy: 0.9477 - val_loss: 0.0296 - val_accuracy: 0.9930\n",
            "Epoch 5/5\n",
            "272/272 [==============================] - 12s 42ms/step - loss: 0.1309 - accuracy: 0.9622 - val_loss: 0.0384 - val_accuracy: 0.9901\n"
          ],
          "name": "stdout"
        },
        {
          "output_type": "execute_result",
          "data": {
            "text/plain": [
              "0.9571428571428572"
            ]
          },
          "metadata": {
            "tags": []
          },
          "execution_count": 29
        }
      ]
    },
    {
      "cell_type": "code",
      "metadata": {
        "id": "FxJDxLIiJPM3",
        "colab_type": "code",
        "colab": {}
      },
      "source": [
        "X_train_grey = color.rgb2gray(X_train).reshape(-1, 32, 32, 1)\n",
        "X_test_grey = color.rgb2gray(X_test).reshape(-1, 32, 32, 1)"
      ],
      "execution_count": 0,
      "outputs": []
    },
    {
      "cell_type": "code",
      "metadata": {
        "id": "4vSPDCT6MiSi",
        "colab_type": "code",
        "colab": {
          "base_uri": "https://localhost:8080/",
          "height": 204
        },
        "outputId": "226c7277-fd57-42c0-e097-5e603afdf362"
      },
      "source": [
        "def train_and_predict(model, X_train, y_train, X_test, y_test):\n",
        "    model_trained = train_model(model, X_train, y_train)\n",
        "    return predict(model_trained, X_test, y_test)\n",
        "\n",
        "\n",
        "def get_cnn(input_shape, cat_num):\n",
        "    model = Sequential([Conv2D(filters=32, kernel_size=(3, 3), activation='relu', input_shape=input_shape),\n",
        "                        Conv2D(filters=32, kernel_size=(3, 3), activation='relu', padding='same'),\n",
        "                        MaxPool2D(),\n",
        "                        Dropout(0.3),\n",
        "\n",
        "                        Conv2D(filters=64, kernel_size=(3, 3), activation='relu', padding='same'),\n",
        "                        Conv2D(filters=64, kernel_size=(3, 3), activation='relu'),\n",
        "                        MaxPool2D(),\n",
        "                        Dropout(0.3),\n",
        "\n",
        "                        Flatten(),\n",
        "\n",
        "                        Dense(1024, activation='relu'),\n",
        "                        Dropout(0.3),\n",
        "\n",
        "                        Dense(1024, activation='relu'),\n",
        "                        Dropout(0.3),\n",
        "\n",
        "                        Dense(cat_num, activation='softmax')])\n",
        "    return model\n",
        "\n",
        "\n",
        "train_and_predict(get_cnn((32, 32, 1), cat_num), X_train_grey, y_train, X_test_grey, y_test)"
      ],
      "execution_count": 32,
      "outputs": [
        {
          "output_type": "stream",
          "text": [
            "Epoch 1/5\n",
            "272/272 [==============================] - 12s 43ms/step - loss: 1.4465 - accuracy: 0.5967 - val_loss: 0.1419 - val_accuracy: 0.9630\n",
            "Epoch 2/5\n",
            "272/272 [==============================] - 11s 42ms/step - loss: 0.1738 - accuracy: 0.9463 - val_loss: 0.0402 - val_accuracy: 0.9895\n",
            "Epoch 3/5\n",
            "272/272 [==============================] - 11s 42ms/step - loss: 0.0858 - accuracy: 0.9735 - val_loss: 0.0164 - val_accuracy: 0.9959\n",
            "Epoch 4/5\n",
            "272/272 [==============================] - 11s 42ms/step - loss: 0.0628 - accuracy: 0.9802 - val_loss: 0.0119 - val_accuracy: 0.9970\n",
            "Epoch 5/5\n",
            "272/272 [==============================] - 11s 42ms/step - loss: 0.0428 - accuracy: 0.9865 - val_loss: 0.0061 - val_accuracy: 0.9982\n"
          ],
          "name": "stdout"
        },
        {
          "output_type": "execute_result",
          "data": {
            "text/plain": [
              "0.9755102040816327"
            ]
          },
          "metadata": {
            "tags": []
          },
          "execution_count": 32
        }
      ]
    },
    {
      "cell_type": "code",
      "metadata": {
        "id": "xEMF5AfiNOHu",
        "colab_type": "code",
        "colab": {}
      },
      "source": [
        ""
      ],
      "execution_count": 0,
      "outputs": []
    }
  ]
}